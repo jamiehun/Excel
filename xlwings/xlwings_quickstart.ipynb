{
 "cells": [
  {
   "cell_type": "code",
   "execution_count": 1,
   "id": "539635c5",
   "metadata": {},
   "outputs": [
    {
     "name": "stdout",
     "output_type": "stream",
     "text": [
      "Requirement already satisfied: xlwings in /Users/jamie/anaconda3/lib/python3.11/site-packages (0.29.1)\n",
      "Requirement already satisfied: psutil>=2.0.0 in /Users/jamie/anaconda3/lib/python3.11/site-packages (from xlwings) (5.9.0)\n",
      "Requirement already satisfied: appscript>=1.0.1 in /Users/jamie/anaconda3/lib/python3.11/site-packages (from xlwings) (1.1.2)\n",
      "Note: you may need to restart the kernel to use updated packages.\n"
     ]
    }
   ],
   "source": [
    "pip install xlwings"
   ]
  },
  {
   "cell_type": "code",
   "execution_count": 4,
   "id": "0536f378",
   "metadata": {},
   "outputs": [
    {
     "name": "stdout",
     "output_type": "stream",
     "text": [
      "Collecting package metadata (current_repodata.json): done\n",
      "Solving environment: done\n",
      "\n",
      "# All requested packages already installed.\n",
      "\n",
      "\n",
      "Note: you may need to restart the kernel to use updated packages.\n"
     ]
    }
   ],
   "source": [
    "conda install xlwings"
   ]
  },
  {
   "cell_type": "code",
   "execution_count": 9,
   "id": "9e83d50a",
   "metadata": {},
   "outputs": [
    {
     "data": {
      "text/plain": [
       "[['Foo1', 'Foo2', 'Foo3'], [10.0, 20.0, 30.0]]"
      ]
     },
     "execution_count": 9,
     "metadata": {},
     "output_type": "execute_result"
    }
   ],
   "source": [
    "import xlwings as xw \n",
    "wb = xw.Book()\n",
    "# wb = xw.Book('FileName.xlsx')\n",
    "# wb = xw.Book(\"\"\"File_PATH\"\"\")\n",
    "\n",
    "sheet = wb.sheets['Sheet1']\n",
    "\n",
    "sheet['A1'].value = 'Foo1'\n",
    "sheet['A1'].value\n",
    "\n",
    "sheet['A1'].value = [['Foo1', 'Foo2', 'Foo3'], [10.0, 20.0, 30.0]]\n",
    "sheet['A1'].expand().value"
   ]
  },
  {
   "cell_type": "code",
   "execution_count": 10,
   "id": "38589c01",
   "metadata": {},
   "outputs": [
    {
     "data": {
      "text/html": [
       "<div>\n",
       "<style scoped>\n",
       "    .dataframe tbody tr th:only-of-type {\n",
       "        vertical-align: middle;\n",
       "    }\n",
       "\n",
       "    .dataframe tbody tr th {\n",
       "        vertical-align: top;\n",
       "    }\n",
       "\n",
       "    .dataframe thead th {\n",
       "        text-align: right;\n",
       "    }\n",
       "</style>\n",
       "<table border=\"1\" class=\"dataframe\">\n",
       "  <thead>\n",
       "    <tr style=\"text-align: right;\">\n",
       "      <th></th>\n",
       "      <th>a</th>\n",
       "      <th>b</th>\n",
       "    </tr>\n",
       "  </thead>\n",
       "  <tbody>\n",
       "    <tr>\n",
       "      <th>0.0</th>\n",
       "      <td>1.0</td>\n",
       "      <td>2.0</td>\n",
       "    </tr>\n",
       "    <tr>\n",
       "      <th>1.0</th>\n",
       "      <td>3.0</td>\n",
       "      <td>4.0</td>\n",
       "    </tr>\n",
       "  </tbody>\n",
       "</table>\n",
       "</div>"
      ],
      "text/plain": [
       "       a    b\n",
       "0.0  1.0  2.0\n",
       "1.0  3.0  4.0"
      ]
     },
     "execution_count": 10,
     "metadata": {},
     "output_type": "execute_result"
    }
   ],
   "source": [
    "import pandas as pd \n",
    "df = pd.DataFrame([[1, 2], [3, 4]], columns = ['a', 'b'])\n",
    "sheet['A1'].value = df \n",
    "sheet['A1'].options(pd.DataFrame, expand='table').value"
   ]
  }
 ],
 "metadata": {
  "kernelspec": {
   "display_name": "Python 3 (ipykernel)",
   "language": "python",
   "name": "python3"
  },
  "language_info": {
   "codemirror_mode": {
    "name": "ipython",
    "version": 3
   },
   "file_extension": ".py",
   "mimetype": "text/x-python",
   "name": "python",
   "nbconvert_exporter": "python",
   "pygments_lexer": "ipython3",
   "version": "3.11.4"
  }
 },
 "nbformat": 4,
 "nbformat_minor": 5
}
